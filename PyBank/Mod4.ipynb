{
 "cells": [
  {
   "cell_type": "code",
   "execution_count": null,
   "id": "42d469cc-4242-4146-9b63-5f040698d1fc",
   "metadata": {},
   "outputs": [],
   "source": [
    "import os\n",
    "import csv\n",
    "total_months=0\n",
    "profit_revenue=0\n",
    "change=0\n",
    "net_change=[]\n",
    "monthly_revenue=[]\n",
    "csvpath = os.path.join('PyBank','Resources','budget_data.csv')\n",
    "with open(csvpath) as csvfile:\n",
    "    csvreader = csv.reader(csvfile, delimiter= ',')\n",
    "    csv_header = next(csvreader)\n",
    "    for row in csvreader:\n",
    "        total_months+=1\n",
    "        profit_revenue+=int(row[1])\n",
    "        monthly_revenue.append(int(row[1]))\n",
    "        net_change= sum([profit_revenue])/len([profit_revenue])\n",
    "    #average_net_change=(profit_losses)/(total_months)\n",
    "    print(total_months)\n",
    "    print(profit_revenue)\n",
    "    #print(average_net_change)\n",
    "    print(net_change)"
   ]
  }
 ],
 "metadata": {
  "kernelspec": {
   "display_name": "Python 3 (ipykernel)",
   "language": "python",
   "name": "python3"
  },
  "language_info": {
   "codemirror_mode": {
    "name": "ipython",
    "version": 3
   },
   "file_extension": ".py",
   "mimetype": "text/x-python",
   "name": "python",
   "nbconvert_exporter": "python",
   "pygments_lexer": "ipython3",
   "version": "3.11.4"
  }
 },
 "nbformat": 4,
 "nbformat_minor": 5
}
